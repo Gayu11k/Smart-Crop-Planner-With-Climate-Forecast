import joblib
import numpy as np
import requests

# === Load trained crop model ===
model = joblib.load("crop_model.pkl")

# === Function to get weather data ===
def get_weather(city_name):
    api_key = "2ffa2e5a9c97d8a238afc0b69f9d253f"  # ← Replace with your own key
    try:
        url = f"http://api.openweathermap.org/data/2.5/weather?q={city_name}&appid={api_key}&units=metric"
        response = requests.get(url)
        data = response.json()

        if data.get("main"):
            temperature = data["main"]["temp"]
            humidity = data["main"]["humidity"]
            print(f"\n🌤️ Live Weather in {city_name}:")
            print(f"   Temperature: {temperature}°C")
            print(f"   Humidity: {humidity}%\n")
            return temperature, humidity
        else:
            print("❌ City not found or API error.")
            return None, None
    except Exception as e:
        print("⚠️ Error fetching weather:", e)
        return None, None

# === Crop Recommendation Function ===
def recommend_crop(n, p, k, temperature, humidity, ph, rainfall):
    features = np.array([[n, p, k, temperature, humidity, ph, rainfall]])
    crop = model.predict(features)[0]
    return crop

# === Main AI Agent ===
def smart_crop_planner():
    print("🌾 Welcome to Smart Crop Planner with Live Weather 🌦️\n")

    try:
        n = int(input("Enter Nitrogen (N) value: "))
        p = int(input("Enter Phosphorus (P) value: "))
        k = int(input("Enter Potassium (K) value: "))
        ph = float(input("Enter pH value: "))
        rainfall = float(input("Enter expected rainfall (in mm): "))
        city = input("Enter your city name (for live weather): ")

        temperature, humidity = get_weather(city)

        if temperature is None or humidity is None:
            print("❌ Weather data unavailable. Try again later.")
            return

        crop = recommend_crop(n, p, k, temperature, humidity, ph, rainfall)
        print(f"✅ Recommended Crop: **{crop.upper()}**")

    except ValueError:
        print("❌ Invalid input. Please enter correct numeric values.")

# === Run the system ===
smart_crop_planner()
